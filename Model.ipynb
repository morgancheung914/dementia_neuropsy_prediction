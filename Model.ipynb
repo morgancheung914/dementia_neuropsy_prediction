{
  "nbformat": 4,
  "nbformat_minor": 0,
  "metadata": {
    "colab": {
      "provenance": []
    },
    "kernelspec": {
      "name": "python3",
      "display_name": "Python 3"
    },
    "language_info": {
      "name": "python"
    }
  },
  "cells": [
    {
      "cell_type": "markdown",
      "source": [
        "#Model\n",
        "This file builds a Machine Learning Model for the prediction of agitation in\n",
        "People Living With Dementia, using a Dataset from TIHM.\n",
        "https://github.com/PBarnaghi/TIHM-Dataset"
      ],
      "metadata": {
        "id": "Xha2WMpSM9lM"
      }
    },
    {
      "cell_type": "markdown",
      "source": [],
      "metadata": {
        "id": "lEcu8yvPOEcO"
      }
    },
    {
      "cell_type": "markdown",
      "source": [
        "#0. Configuration\n",
        "Importing libraries, Preparation of Dataset"
      ],
      "metadata": {
        "id": "Z-WOrFKYL7aQ"
      }
    },
    {
      "cell_type": "code",
      "source": [
        "import pandas as pd\n",
        "import numpy as np\n",
        "import tensorflow as tf"
      ],
      "metadata": {
        "id": "kfalVd1FNed-"
      },
      "execution_count": 2,
      "outputs": []
    },
    {
      "cell_type": "code",
      "source": [
        "from google.colab import drive\n",
        "\n",
        "# Mount Google Drive\n",
        "drive.mount('/content/drive')"
      ],
      "metadata": {
        "colab": {
          "base_uri": "https://localhost:8080/"
        },
        "id": "RaD4QSq8MAu6",
        "outputId": "c331af46-5a8c-471d-88dd-c1d036439dfc"
      },
      "execution_count": 3,
      "outputs": [
        {
          "output_type": "stream",
          "name": "stdout",
          "text": [
            "Drive already mounted at /content/drive; to attempt to forcibly remount, call drive.mount(\"/content/drive\", force_remount=True).\n"
          ]
        }
      ]
    },
    {
      "cell_type": "code",
      "source": [
        "#Import dataset from drive as csv\n",
        "activity = pd.read_csv(\"/content/drive/MyDrive/TIHM_Dataset/Dataset/Activity.csv\") #data hosted on my personal drive, may change according to use\n",
        "physiology = pd.read_csv(\"/content/drive/MyDrive/TIHM_Dataset/Dataset/Physiology.csv\")\n",
        "labels = pd.read_csv(\"/content/drive/MyDrive/TIHM_Dataset/Dataset/Labels.csv\")"
      ],
      "metadata": {
        "id": "hNe1t9xSMyCh"
      },
      "execution_count": 4,
      "outputs": []
    },
    {
      "cell_type": "markdown",
      "source": [
        "# 1. Exploratory Data Analysis\n",
        "\n",
        "\n",
        "\n",
        "\n"
      ],
      "metadata": {
        "id": "ustiIQiLLttc"
      }
    },
    {
      "cell_type": "code",
      "execution_count": 5,
      "metadata": {
        "colab": {
          "base_uri": "https://localhost:8080/"
        },
        "id": "tlE28BL5LrPn",
        "outputId": "9fe953b1-af94-4ebc-b424-fc3846d9cd2b"
      },
      "outputs": [
        {
          "output_type": "stream",
          "name": "stdout",
          "text": [
            "Activity data description: \n",
            "       patient_id location_name                 date\n",
            "count     1030559       1030559              1030559\n",
            "unique         56             8               916821\n",
            "top         b9d58       Kitchen  2019-06-20 14:23:25\n",
            "freq        46654        227312                    6\n",
            "\n",
            "activity fields: \n",
            "Index(['patient_id', 'location_name', 'date'], dtype='object'))\n",
            "---\n",
            "Physiology data description: \n",
            "       patient_id                 date       device_type         value   unit\n",
            "count       17679                17679             17679  17679.000000  17679\n",
            "unique         55                 9773                 8           NaN      5\n",
            "top         c55f8  2019-06-28 10:16:06  Body Temperature           NaN    Cel\n",
            "freq          951                    6              5617           NaN   6362\n",
            "mean          NaN                  NaN               NaN     64.766046    NaN\n",
            "std           NaN                  NaN               NaN     33.999335    NaN\n",
            "min           NaN                  NaN               NaN     29.082000    NaN\n",
            "25%           NaN                  NaN               NaN     36.599000    NaN\n",
            "50%           NaN                  NaN               NaN     54.800000    NaN\n",
            "75%           NaN                  NaN               NaN     79.000000    NaN\n",
            "max           NaN                  NaN               NaN    211.000000    NaN\n",
            "\\physiology fields: \n",
            "Index(['patient_id', 'date', 'device_type', 'value', 'unit'], dtype='object'))\n"
          ]
        }
      ],
      "source": [
        "#Activity Data description\n",
        "print(f\"Activity data description: \\n{activity.describe()}\")\n",
        "\n",
        "#field names for activity\n",
        "print(f\"\\nactivity fields: \\n{activity.columns})\")\n",
        "\n",
        "print(\"---\")\n",
        "#Physiology Data description\n",
        "print(f\"Physiology data description: \\n{physiology.describe(include = 'all')}\")\n",
        "\n",
        "#field names for physiology\n",
        "\n",
        "print(f\"\\physiology fields: \\n{physiology.columns})\")\n",
        "\n"
      ]
    },
    {
      "cell_type": "markdown",
      "source": [
        "It appears that all other subsets of data, except for activity is recorded quite sparsely, the record density is rather low to give promising results. We limit our scope into predicting agitation purely from activity data"
      ],
      "metadata": {
        "id": "qTg77u69OE94"
      }
    },
    {
      "cell_type": "markdown",
      "source": [
        "#2. Data Preprocessing"
      ],
      "metadata": {
        "id": "Rfv4W7jr80Ld"
      }
    },
    {
      "cell_type": "code",
      "source": [
        "#discard days in which there are less than 50 daily entries\n",
        "MIN_DAILY_ENTRY = 50\n",
        "print(activity)\n",
        "activity['date'] = pd.to_datetime(activity['date'])\n",
        "activity['day'] = activity['date'].dt.date\n",
        "activity_grouped = activity.groupby(['patient_id', 'day']).size().reset_index(name='entry_count')\n",
        "\n",
        "\n",
        "activity_grouped = activity_grouped[activity_grouped['entry_count'] >= MIN_DAILY_ENTRY]\n",
        "\n",
        "activity_valid = activity_grouped.drop_duplicates(subset=('patient_id', 'day'))[['patient_id', 'day']]\n",
        "print(activity_valid)\n",
        "activity = pd.merge(activity_valid, activity, on=['patient_id', 'day'])\n",
        "print(activity)"
      ],
      "metadata": {
        "id": "N0ZTpsldQw6G",
        "colab": {
          "base_uri": "https://localhost:8080/"
        },
        "outputId": "73e5b5c3-0064-4afa-83e2-9031077ce141"
      },
      "execution_count": 6,
      "outputs": [
        {
          "output_type": "stream",
          "name": "stdout",
          "text": [
            "        patient_id location_name                 date\n",
            "0            0697d   Fridge Door  2019-06-28 13:03:29\n",
            "1            0697d       Kitchen  2019-06-28 13:11:44\n",
            "2            0697d    Front Door  2019-06-28 13:13:50\n",
            "3            0697d       Bedroom  2019-06-28 13:13:53\n",
            "4            0697d   Fridge Door  2019-06-28 13:14:09\n",
            "...            ...           ...                  ...\n",
            "1030554      fd100       Hallway  2019-06-30 23:48:50\n",
            "1030555      fd100        Lounge  2019-06-30 23:49:40\n",
            "1030556      fd100       Kitchen  2019-06-30 23:50:02\n",
            "1030557      fd100    Front Door  2019-06-30 23:51:28\n",
            "1030558      fd100    Front Door  2019-06-30 23:51:36\n",
            "\n",
            "[1030559 rows x 3 columns]\n",
            "     patient_id         day\n",
            "0         0697d  2019-06-28\n",
            "1         0697d  2019-06-29\n",
            "2         0697d  2019-06-30\n",
            "3         099bc  2019-05-15\n",
            "4         099bc  2019-05-16\n",
            "...         ...         ...\n",
            "2717      f220c  2019-06-30\n",
            "2718      fd100  2019-06-27\n",
            "2719      fd100  2019-06-28\n",
            "2720      fd100  2019-06-29\n",
            "2721      fd100  2019-06-30\n",
            "\n",
            "[2634 rows x 2 columns]\n",
            "        patient_id         day location_name                date\n",
            "0            0697d  2019-06-28   Fridge Door 2019-06-28 13:03:29\n",
            "1            0697d  2019-06-28       Kitchen 2019-06-28 13:11:44\n",
            "2            0697d  2019-06-28    Front Door 2019-06-28 13:13:50\n",
            "3            0697d  2019-06-28       Bedroom 2019-06-28 13:13:53\n",
            "4            0697d  2019-06-28   Fridge Door 2019-06-28 13:14:09\n",
            "...            ...         ...           ...                 ...\n",
            "1029077      fd100  2019-06-30       Hallway 2019-06-30 23:48:50\n",
            "1029078      fd100  2019-06-30        Lounge 2019-06-30 23:49:40\n",
            "1029079      fd100  2019-06-30       Kitchen 2019-06-30 23:50:02\n",
            "1029080      fd100  2019-06-30    Front Door 2019-06-30 23:51:28\n",
            "1029081      fd100  2019-06-30    Front Door 2019-06-30 23:51:36\n",
            "\n",
            "[1029082 rows x 4 columns]\n"
          ]
        }
      ]
    },
    {
      "cell_type": "markdown",
      "source": [
        "Segment our data into 1 hour intervals.\n",
        "\n",
        "\n",
        "Note: the underlying assumption is that information is only relevant within a one hour window, which may be an oversight."
      ],
      "metadata": {
        "id": "Hu-Kv1UfcbuV"
      }
    },
    {
      "cell_type": "code",
      "source": [
        "#group data into 1 hour intervals\n",
        "activity_g2 = activity.groupby(['patient_id', pd.Grouper(key='date', freq = '1H')])['location_name'].apply(np.array)\n",
        "activity_g3 = activity.groupby(['patient_id', pd.Grouper(key='date', freq = '1H')])['date'].apply(np.array)\n",
        "\n",
        "#create new dataframe with new column, encoding the time and location into a 2d array\n",
        "activity_g4 = pd.DataFrame({'datetime': activity_g3, 'location_name': activity_g2}).reset_index()\n",
        "activity_g4['joint'] = activity_g4.apply(lambda row: np.array([np.array(x) for x in zip(row['datetime'], row['location_name'])]), axis=1)\n",
        "activity_g4 = activity_g4.drop([\"datetime\", \"location_name\"], axis = 1)"
      ],
      "metadata": {
        "id": "RVvmYtbKcgzP"
      },
      "execution_count": 7,
      "outputs": []
    },
    {
      "cell_type": "markdown",
      "source": [
        "Preprocess the data labels"
      ],
      "metadata": {
        "id": "zClgUsKA8v9k"
      }
    },
    {
      "cell_type": "code",
      "source": [
        "#only take the agitation type\n",
        "labels = labels[labels['type'] == 'Agitation']\n",
        "labels['date'] = pd.to_datetime(labels['date'])\n",
        "\n",
        "#align to activity data\n",
        "labels_grouped = labels.groupby(['patient_id', pd.Grouper(key='date', freq = '1H')]).sum().reset_index()\n",
        "print(labels_grouped.head(50))\n",
        "\n",
        "activity_labels = pd.merge(activity_g4, labels_grouped, on = ['patient_id', 'date'], how = 'outer')\n",
        "activity_labels = activity_labels.dropna(subset = ['joint'])\n",
        "activity_labels = activity_labels.fillna(0)\n",
        "activity_labels['type'] = activity_labels['type'].replace('Agitation', 1)\n",
        "\n",
        "\n",
        "print(\"negative count:\")\n",
        "print(activity_labels[activity_labels['type'] == 0].shape[0])\n",
        "print(\"positive count:\")\n",
        "print(activity_labels[activity_labels['type'] == 1].shape[0])"
      ],
      "metadata": {
        "id": "lI1N5z73-AOk",
        "colab": {
          "base_uri": "https://localhost:8080/"
        },
        "outputId": "574ff30d-9ad5-401e-a155-2162c1552470"
      },
      "execution_count": 8,
      "outputs": [
        {
          "output_type": "stream",
          "name": "stdout",
          "text": [
            "   patient_id                date       type\n",
            "0       099bc 2019-06-10 12:00:00  Agitation\n",
            "1       0cda9 2019-05-28 12:00:00  Agitation\n",
            "2       0d5ef 2019-05-23 12:00:00  Agitation\n",
            "3       0d5ef 2019-05-24 12:00:00  Agitation\n",
            "4       0d5ef 2019-05-25 12:00:00  Agitation\n",
            "5       0d5ef 2019-05-25 18:00:00  Agitation\n",
            "6       0d5ef 2019-05-29 12:00:00  Agitation\n",
            "7       0d5ef 2019-06-01 12:00:00  Agitation\n",
            "8       0d5ef 2019-06-02 12:00:00  Agitation\n",
            "9       0d5ef 2019-06-03 12:00:00  Agitation\n",
            "10      0d5ef 2019-06-09 18:00:00  Agitation\n",
            "11      0d5ef 2019-06-26 18:00:00  Agitation\n",
            "12      0d5ef 2019-06-28 18:00:00  Agitation\n",
            "13      16f4b 2019-04-11 12:00:00  Agitation\n",
            "14      16f4b 2019-04-14 12:00:00  Agitation\n",
            "15      16f4b 2019-04-15 18:00:00  Agitation\n",
            "16      16f4b 2019-04-16 18:00:00  Agitation\n",
            "17      16f4b 2019-04-21 12:00:00  Agitation\n",
            "18      16f4b 2019-04-22 12:00:00  Agitation\n",
            "19      16f4b 2019-04-26 12:00:00  Agitation\n",
            "20      16f4b 2019-05-10 12:00:00  Agitation\n",
            "21      16f4b 2019-05-11 18:00:00  Agitation\n",
            "22      16f4b 2019-05-14 12:00:00  Agitation\n",
            "23      16f4b 2019-05-19 08:00:00  Agitation\n",
            "24      201d8 2019-05-31 12:00:00  Agitation\n",
            "25      393cb 2019-05-24 12:00:00  Agitation\n",
            "26      3fb61 2019-06-03 18:00:00  Agitation\n",
            "27      3fb61 2019-06-09 18:00:00  Agitation\n",
            "28      46286 2019-06-21 12:00:00  Agitation\n",
            "29      6b29b 2019-06-02 08:00:00  Agitation\n",
            "30      6b29b 2019-06-29 12:00:00  Agitation\n",
            "31      73f7c 2019-05-15 12:00:00  Agitation\n",
            "32      73f7c 2019-05-16 08:00:00  Agitation\n",
            "33      73f7c 2019-05-19 08:00:00  Agitation\n",
            "34      73f7c 2019-05-20 18:00:00  Agitation\n",
            "35      73f7c 2019-05-21 18:00:00  Agitation\n",
            "36      73f7c 2019-05-22 12:00:00  Agitation\n",
            "37      73f7c 2019-05-22 18:00:00  Agitation\n",
            "38      73f7c 2019-05-23 08:00:00  Agitation\n",
            "39      73f7c 2019-05-23 12:00:00  Agitation\n",
            "40      73f7c 2019-05-23 18:00:00  Agitation\n",
            "41      73f7c 2019-05-24 08:00:00  Agitation\n",
            "42      73f7c 2019-05-24 18:00:00  Agitation\n",
            "43      73f7c 2019-05-25 18:00:00  Agitation\n",
            "44      73f7c 2019-05-26 08:00:00  Agitation\n",
            "45      73f7c 2019-05-26 12:00:00  Agitation\n",
            "46      73f7c 2019-05-26 18:00:00  Agitation\n",
            "47      73f7c 2019-05-27 12:00:00  Agitation\n",
            "48      73f7c 2019-05-27 18:00:00  Agitation\n",
            "49      73f7c 2019-05-28 12:00:00  Agitation\n",
            "negative count:\n",
            "47082\n",
            "positive count:\n",
            "131\n"
          ]
        },
        {
          "output_type": "stream",
          "name": "stderr",
          "text": [
            "<ipython-input-8-3e8fbd0e5732>:3: SettingWithCopyWarning: \n",
            "A value is trying to be set on a copy of a slice from a DataFrame.\n",
            "Try using .loc[row_indexer,col_indexer] = value instead\n",
            "\n",
            "See the caveats in the documentation: https://pandas.pydata.org/pandas-docs/stable/user_guide/indexing.html#returning-a-view-versus-a-copy\n",
            "  labels['date'] = pd.to_datetime(labels['date'])\n"
          ]
        }
      ]
    },
    {
      "cell_type": "markdown",
      "source": [
        "#3. Data Augmentation\n",
        "\n",
        "\n",
        "We see that there is a severe class imbalance with a lack of positive data. We try data augmentation through shifting each activity t minutes to the left and right.\n",
        "\n"
      ],
      "metadata": {
        "id": "ao6-bNoxGrlT"
      }
    },
    {
      "cell_type": "code",
      "source": [
        "pos_activity = activity_labels[activity_labels['type'] == 1]\n",
        "neg_activity = activity_labels[activity_labels['type'] == 0]\n"
      ],
      "metadata": {
        "id": "QuuYBo4_JwCA"
      },
      "execution_count": 9,
      "outputs": []
    },
    {
      "cell_type": "code",
      "source": [
        "def ActivityShift(timearr, t, is_left = True):\n",
        "  \"\"\"\n",
        "  Obtain augmented copy of the event array shifted by t minutes\n",
        "  Args:\n",
        "    timearr (np.array): time array to be shifted\n",
        "    t (int): number of minutes to be shifted before or after\n",
        "    is_left (bool): left shifting, if set to false, performs right shifting, defaulted to True\n",
        "  Return:\n",
        "    r_retarr (np.array): right shifted time array\n",
        "    l_retarr (np.array): right shifted time array\n",
        "  \"\"\"\n",
        "\n",
        "\n",
        "  retarr = []\n",
        "\n",
        "\n",
        "  for event in timearr:\n",
        "\n",
        "    ts, loc = event[0], event[1]\n",
        "\n",
        "    if (is_left):\n",
        "      l_ts = ts - pd.Timedelta(minutes = t)\n",
        "      if (pd.to_datetime(ts).minute < (t+1)):\n",
        "        continue\n",
        "      else:\n",
        "        retarr.append(np.array([l_ts, loc]))\n",
        "\n",
        "\n",
        "\n",
        "    else:\n",
        "      r_ts = ts + pd.Timedelta(minutes = t)\n",
        "      if (pd.to_datetime(ts).minute > (60-t-1)):\n",
        "        continue\n",
        "      else:\n",
        "        retarr.append(np.array([r_ts, loc]))\n",
        "\n",
        "\n",
        "  return np.array(retarr)\n",
        "\n",
        "\n",
        "\n"
      ],
      "metadata": {
        "id": "aXRX1qnCHKg-"
      },
      "execution_count": 10,
      "outputs": []
    },
    {
      "cell_type": "code",
      "source": [
        "pos_act_a1 = pos_activity.copy()\n",
        "pos_act_a2 = pos_activity.copy()\n",
        "pos_act_a3 = pos_activity.copy()\n",
        "pos_act_a4 = pos_activity.copy()\n",
        "pos_act_a5 = pos_activity.copy()\n",
        "pos_act_a5 = pos_activity.copy()\n",
        "pos_act_a6 = pos_activity.copy()\n",
        "pos_act_a7 = pos_activity.copy()\n",
        "pos_act_a8 = pos_activity.copy()\n",
        "\n",
        "pos_act_a9 = pos_activity.copy()\n",
        "pos_act_a10 = pos_activity.copy()\n",
        "pos_act_a11 = pos_activity.copy()\n",
        "pos_act_a12 = pos_activity.copy()\n",
        "pos_act_a13 = pos_activity.copy()\n",
        "pos_act_a14 = pos_activity.copy()\n",
        "pos_act_a15 = pos_activity.copy()\n",
        "pos_act_a16 = pos_activity.copy()\n",
        "\n",
        "\n",
        "def Augment(row, t = 3, left = True):\n",
        "  return ActivityShift(row['joint'], t, left)\n",
        "\n",
        "\n",
        "pos_act_a1.loc[:, 'joint'] = pos_act_a1.apply(Augment, axis = 1, args = (3, True))\n",
        "pos_act_a2.loc[:, 'joint'] = pos_act_a2.apply(Augment, axis = 1, args = (3, False))\n",
        "pos_act_a3.loc[:, 'joint'] = pos_act_a3.apply(Augment, axis = 1, args = (5, True))\n",
        "pos_act_a4.loc[:, 'joint'] = pos_act_a4.apply(Augment, axis = 1, args = (5, False))\n",
        "pos_act_a5.loc[:, 'joint'] = pos_act_a5.apply(Augment, axis = 1, args = (4, True))\n",
        "pos_act_a6.loc[:, 'joint'] = pos_act_a6.apply(Augment, axis = 1, args = (4, False))\n",
        "pos_act_a7.loc[:, 'joint'] = pos_act_a7.apply(Augment, axis = 1, args = (6, True))\n",
        "pos_act_a8.loc[:, 'joint'] = pos_act_a8.apply(Augment, axis = 1, args = (6, False))\n",
        "\n",
        "pos_act_a9.loc[:, 'joint'] = pos_act_a1.apply(Augment, axis = 1, args = (2, True))\n",
        "pos_act_a10.loc[:, 'joint'] = pos_act_a2.apply(Augment, axis = 1, args = (2, False))\n",
        "pos_act_a11.loc[:, 'joint'] = pos_act_a3.apply(Augment, axis = 1, args = (1, True))\n",
        "pos_act_a12.loc[:, 'joint'] = pos_act_a4.apply(Augment, axis = 1, args = (1, False))\n",
        "pos_act_a13.loc[:, 'joint'] = pos_act_a5.apply(Augment, axis = 1, args = (7, True))\n",
        "pos_act_a14.loc[:, 'joint'] = pos_act_a6.apply(Augment, axis = 1, args = (7, False))\n",
        "pos_act_a15.loc[:, 'joint'] = pos_act_a7.apply(Augment, axis = 1, args = (8, True))\n",
        "pos_act_a16.loc[:, 'joint'] = pos_act_a8.apply(Augment, axis = 1, args = (8, False))\n",
        "\n",
        "pos_act_aug = pd.concat([pos_act_a1, pos_act_a2, pos_act_a3, pos_act_a4, pos_act_a5, pos_act_a6, pos_act_a7, pos_act_a8, pos_act_a9, pos_act_a10, pos_act_a11, pos_act_a12, pos_act_a13, pos_act_a14, pos_act_a15, pos_act_a16])\n",
        "pos_act_aug.loc[:, 'joint'] = np.array(pos_act_aug['joint'])"
      ],
      "metadata": {
        "id": "sLMcOTXkKJ9S"
      },
      "execution_count": 11,
      "outputs": []
    },
    {
      "cell_type": "code",
      "source": [
        "print(activity['location_name'].unique())\n",
        "pos_x = pos_act_aug['joint'].values\n",
        "\n",
        "#resolve class imbalance, only take half of the negative class\n",
        "neg_x = neg_activity.iloc[:len(neg_activity)//4]\n",
        "neg_x = neg_x['joint'].values\n"
      ],
      "metadata": {
        "colab": {
          "base_uri": "https://localhost:8080/"
        },
        "id": "Dc63R8EVY0ja",
        "outputId": "4a155800-5e5d-4cca-b2f5-4980f55d53f2"
      },
      "execution_count": 12,
      "outputs": [
        {
          "output_type": "stream",
          "name": "stdout",
          "text": [
            "['Fridge Door' 'Kitchen' 'Front Door' 'Bedroom' 'Back Door' 'Bathroom'\n",
            " 'Lounge' 'Hallway']\n"
          ]
        }
      ]
    },
    {
      "cell_type": "code",
      "source": [
        "print(pos_x.shape)\n",
        "print(neg_x.shape)"
      ],
      "metadata": {
        "colab": {
          "base_uri": "https://localhost:8080/"
        },
        "id": "yU7BE-8nWK6E",
        "outputId": "688d67aa-154b-47e2-dada-9b8c2d6f650a"
      },
      "execution_count": 13,
      "outputs": [
        {
          "output_type": "stream",
          "name": "stdout",
          "text": [
            "(2096,)\n",
            "(11770,)\n"
          ]
        }
      ]
    },
    {
      "cell_type": "markdown",
      "source": [
        "#4. Encoding\n",
        "Encode our data into sequence inputs for the RNN model. First turn one of the 8 location into index, and then one-hot encode each of the states, with one extra state denoting no record. If a sensor fires in minute t and there are no signal in minute t+1, choose the state for minute t as state of minute t+1"
      ],
      "metadata": {
        "id": "npb5MO0E5TAL"
      }
    },
    {
      "cell_type": "code",
      "source": [
        "loc_to_idx = {'No Record': 0, 'Fridge Door': 1, 'Kitchen': 2, 'Front Door': 3, 'Bedroom': 4, 'Back Door': 5, 'Bathroom': 6, 'Lounge': 7, 'Hallway': 8}\n",
        "\n",
        "def Encode(hour_arr):\n",
        "  \"\"\"\n",
        "  Takes in hourly array, encode location with one-hot encoding, convert each hourly string into 60 one hot vectors\n",
        "  Args:\n",
        "    hour_arr (np.array): hourly array\n",
        "  Return:\n",
        "    ret_arr (np.array): array of 60 one hot vectors\n",
        "  \"\"\"\n",
        "\n",
        "  ret_arr = np.zeros((60, 9))\n",
        "  for i in range(hour_arr.shape[0]):\n",
        "    time = pd.to_datetime(hour_arr[i,0]).minute\n",
        "    loc = loc_to_idx[hour_arr[i,1]]\n",
        "    loc = np.eye(9)[loc]\n",
        "    ret_arr[time,:] = loc\n",
        "\n",
        "  #dilation of the sensor data, if a sensor fires in minute t and there are no signal in minute t+1, choose the state for minute t as state of minute t+1\n",
        "  for j in range(1, ret_arr.shape[0]):\n",
        "\n",
        "    if np.all(ret_arr[j] == 0):\n",
        "      ret_arr[j,:] = ret_arr[j-1,:]\n",
        "\n",
        "  #one-hot encode the 'No Record' category\n",
        "  all_zero = np.all(ret_arr == 0, axis = 1)\n",
        "  ret_arr[all_zero, 0] = 1\n",
        "  return ret_arr\n",
        "\n",
        "\n"
      ],
      "metadata": {
        "id": "2-RLrTWTmu6_"
      },
      "execution_count": 14,
      "outputs": []
    },
    {
      "cell_type": "code",
      "source": [
        "\n",
        "encoded_pos = np.stack([Encode(pos_x[i]) for i in range(len(pos_x))], axis = 0)\n",
        "encoded_neg = np.stack([Encode(neg_x[i]) for i in range(len(neg_x))], axis = 0)"
      ],
      "metadata": {
        "id": "2azyFoE_7CJY"
      },
      "execution_count": 15,
      "outputs": []
    },
    {
      "cell_type": "code",
      "source": [
        "label_pos = np.ones((encoded_pos.shape[0], 1))\n",
        "label_neg = np.zeros((encoded_neg.shape[0], 1))\n",
        "label_pos.shape, label_neg.shape\n",
        "label = np.vstack([label_pos, label_neg])\n",
        "feature = np.vstack([encoded_pos, encoded_neg])\n",
        "\n"
      ],
      "metadata": {
        "id": "dQ2r0kis1DYV"
      },
      "execution_count": 16,
      "outputs": []
    },
    {
      "cell_type": "markdown",
      "source": [
        "Ready to move to Tensorflow. :)"
      ],
      "metadata": {
        "id": "7ujNtaZd2zfp"
      }
    },
    {
      "cell_type": "code",
      "source": [
        "feature = feature.astype(int)\n",
        "label = label.astype(int)\n",
        "\n",
        "dataset = tf.data.Dataset.from_tensor_slices((feature, label))"
      ],
      "metadata": {
        "id": "NaPCUzZU1ZF0"
      },
      "execution_count": 17,
      "outputs": []
    },
    {
      "cell_type": "markdown",
      "source": [
        "View attributes of dataset"
      ],
      "metadata": {
        "id": "dtIxHkg03nME"
      }
    },
    {
      "cell_type": "code",
      "source": [
        "print(tf.data.experimental.cardinality(dataset))\n",
        "total_size = len(dataset)\n",
        "print(total_size)"
      ],
      "metadata": {
        "colab": {
          "base_uri": "https://localhost:8080/"
        },
        "id": "D1wlxK643KOn",
        "outputId": "d3abed05-916f-4ced-a481-3468ff75ac2a"
      },
      "execution_count": 18,
      "outputs": [
        {
          "output_type": "stream",
          "name": "stdout",
          "text": [
            "tf.Tensor(13866, shape=(), dtype=int64)\n",
            "13866\n"
          ]
        }
      ]
    },
    {
      "cell_type": "markdown",
      "source": [
        "Setting batch, shuffling"
      ],
      "metadata": {
        "id": "mt_lKl9F3yYn"
      }
    },
    {
      "cell_type": "code",
      "source": [
        "BATCH_SIZE = 64\n",
        "TRAIN_RATIO = 0.7\n",
        "\n",
        "#train test split\n",
        "train_size = int(TRAIN_RATIO * total_size)\n",
        "val_size = total_size - train_size\n",
        "\n",
        "\n",
        "dataset = dataset.shuffle(10000)\n",
        "train_dataset = dataset.take(train_size)\n",
        "val_dataset = dataset.skip(train_size)\n",
        "\n",
        "train_dataset = train_dataset.batch(BATCH_SIZE)\n",
        "val_dataset = val_dataset.batch(BATCH_SIZE)"
      ],
      "metadata": {
        "id": "5takT8uF33ny"
      },
      "execution_count": 31,
      "outputs": []
    },
    {
      "cell_type": "markdown",
      "source": [
        "#5. Model Definition#"
      ],
      "metadata": {
        "id": "6LhrG-Er7vEP"
      }
    },
    {
      "cell_type": "code",
      "source": [
        "import tensorflow.keras.layers as tfl\n"
      ],
      "metadata": {
        "id": "nH8zZLBo8wef"
      },
      "execution_count": 33,
      "outputs": []
    },
    {
      "cell_type": "code",
      "source": [
        "def LSTM_model(input_shape):\n",
        "  model1 = tf.keras.Sequential()\n",
        "  model1.add(tfl.InputLayer(input_shape = input_shape, batch_size = BATCH_SIZE))\n",
        "  model1.add(tfl.LSTM(64))\n",
        "  model1.add(tfl.Dense(1, activation = 'sigmoid'))\n",
        "\n",
        "  return model1"
      ],
      "metadata": {
        "id": "Vcz28RyJ5Qo9"
      },
      "execution_count": 34,
      "outputs": []
    },
    {
      "cell_type": "code",
      "source": [
        "LSTM = LSTM_model((60, 9))"
      ],
      "metadata": {
        "id": "sLQQ_fUO5RP2"
      },
      "execution_count": 35,
      "outputs": []
    },
    {
      "cell_type": "code",
      "source": [
        "LSTM.summary()"
      ],
      "metadata": {
        "colab": {
          "base_uri": "https://localhost:8080/"
        },
        "id": "b3I1RMAdCIP5",
        "outputId": "26f11347-1309-497f-f2b2-e726bac8d476"
      },
      "execution_count": 36,
      "outputs": [
        {
          "output_type": "stream",
          "name": "stdout",
          "text": [
            "Model: \"sequential_1\"\n",
            "_________________________________________________________________\n",
            " Layer (type)                Output Shape              Param #   \n",
            "=================================================================\n",
            " lstm_1 (LSTM)               (64, 64)                  18944     \n",
            "                                                                 \n",
            " dense_1 (Dense)             (64, 1)                   65        \n",
            "                                                                 \n",
            "=================================================================\n",
            "Total params: 19009 (74.25 KB)\n",
            "Trainable params: 19009 (74.25 KB)\n",
            "Non-trainable params: 0 (0.00 Byte)\n",
            "_________________________________________________________________\n"
          ]
        }
      ]
    },
    {
      "cell_type": "code",
      "source": [
        "#model checkpoint to save the best model\n",
        "from tensorflow.keras.callbacks import ModelCheckpoint\n",
        "fp = \"/content/drive/MyDrive/TIHM_Dataset/{epoch:02d}-{val_accuracy:02f}.h5\"\n",
        "checkpoint = ModelCheckpoint(fp, monitor='val_loss', save_best_only = True, mode = 'min', verbose = 1)"
      ],
      "metadata": {
        "id": "ERQv0kTrCKQt"
      },
      "execution_count": 37,
      "outputs": []
    },
    {
      "cell_type": "code",
      "source": [
        "LSTM.compile(optimizer = 'adam', loss = 'binary_crossentropy', metrics = ['accuracy'])"
      ],
      "metadata": {
        "id": "lBB_R1QCE7pW"
      },
      "execution_count": 38,
      "outputs": []
    },
    {
      "cell_type": "markdown",
      "source": [
        "#6. Training and Evaluation"
      ],
      "metadata": {
        "id": "6nlJgRsIEfgW"
      }
    },
    {
      "cell_type": "code",
      "source": [
        "history = LSTM.fit(train_dataset, epochs = 50, validation_data=val_dataset, callbacks = [checkpoint])"
      ],
      "metadata": {
        "colab": {
          "base_uri": "https://localhost:8080/"
        },
        "id": "jl8l7pMvEjQb",
        "outputId": "acf16a3c-ee47-4eb3-c545-cce581577cf2"
      },
      "execution_count": 39,
      "outputs": [
        {
          "output_type": "stream",
          "name": "stdout",
          "text": [
            "Epoch 1/50\n",
            "152/152 [==============================] - ETA: 0s - loss: 0.3932 - accuracy: 0.8422\n",
            "Epoch 1: val_loss improved from inf to 0.33274, saving model to /content/drive/MyDrive/TIHM_Dataset/01-0.849279.h5\n",
            "152/152 [==============================] - 10s 54ms/step - loss: 0.3932 - accuracy: 0.8422 - val_loss: 0.3327 - val_accuracy: 0.8493\n",
            "Epoch 2/50\n",
            "151/152 [============================>.] - ETA: 0s - loss: 0.3381 - accuracy: 0.8563\n",
            "Epoch 2: val_loss improved from 0.33274 to 0.31105, saving model to /content/drive/MyDrive/TIHM_Dataset/02-0.873798.h5\n",
            "152/152 [==============================] - 6s 39ms/step - loss: 0.3381 - accuracy: 0.8561 - val_loss: 0.3111 - val_accuracy: 0.8738\n",
            "Epoch 3/50\n",
            "152/152 [==============================] - ETA: 0s - loss: 0.3079 - accuracy: 0.8715\n",
            "Epoch 3: val_loss improved from 0.31105 to 0.29389, saving model to /content/drive/MyDrive/TIHM_Dataset/03-0.873317.h5\n",
            "152/152 [==============================] - 6s 42ms/step - loss: 0.3079 - accuracy: 0.8715 - val_loss: 0.2939 - val_accuracy: 0.8733\n",
            "Epoch 4/50\n",
            "152/152 [==============================] - ETA: 0s - loss: 0.2955 - accuracy: 0.8784\n",
            "Epoch 4: val_loss improved from 0.29389 to 0.28178, saving model to /content/drive/MyDrive/TIHM_Dataset/04-0.880529.h5\n",
            "152/152 [==============================] - 7s 43ms/step - loss: 0.2955 - accuracy: 0.8784 - val_loss: 0.2818 - val_accuracy: 0.8805\n",
            "Epoch 5/50\n",
            "152/152 [==============================] - ETA: 0s - loss: 0.2728 - accuracy: 0.8872\n",
            "Epoch 5: val_loss improved from 0.28178 to 0.25448, saving model to /content/drive/MyDrive/TIHM_Dataset/05-0.894952.h5\n",
            "152/152 [==============================] - 7s 46ms/step - loss: 0.2728 - accuracy: 0.8872 - val_loss: 0.2545 - val_accuracy: 0.8950\n",
            "Epoch 6/50\n",
            "152/152 [==============================] - ETA: 0s - loss: 0.2592 - accuracy: 0.8896\n",
            "Epoch 6: val_loss did not improve from 0.25448\n",
            "152/152 [==============================] - 6s 41ms/step - loss: 0.2592 - accuracy: 0.8896 - val_loss: 0.2603 - val_accuracy: 0.8918\n",
            "Epoch 7/50\n",
            "151/152 [============================>.] - ETA: 0s - loss: 0.2418 - accuracy: 0.8992\n",
            "Epoch 7: val_loss did not improve from 0.25448\n",
            "152/152 [==============================] - 6s 42ms/step - loss: 0.2415 - accuracy: 0.8993 - val_loss: 0.2582 - val_accuracy: 0.8853\n",
            "Epoch 8/50\n",
            "152/152 [==============================] - ETA: 0s - loss: 0.2382 - accuracy: 0.8983\n",
            "Epoch 8: val_loss improved from 0.25448 to 0.22992, saving model to /content/drive/MyDrive/TIHM_Dataset/08-0.904327.h5\n",
            "152/152 [==============================] - 7s 48ms/step - loss: 0.2382 - accuracy: 0.8983 - val_loss: 0.2299 - val_accuracy: 0.9043\n",
            "Epoch 9/50\n",
            "152/152 [==============================] - ETA: 0s - loss: 0.2291 - accuracy: 0.9037\n",
            "Epoch 9: val_loss did not improve from 0.22992\n",
            "152/152 [==============================] - 6s 41ms/step - loss: 0.2291 - accuracy: 0.9037 - val_loss: 0.2381 - val_accuracy: 0.9094\n",
            "Epoch 10/50\n",
            "151/152 [============================>.] - ETA: 0s - loss: 0.2289 - accuracy: 0.9049\n",
            "Epoch 10: val_loss improved from 0.22992 to 0.21438, saving model to /content/drive/MyDrive/TIHM_Dataset/10-0.910577.h5\n",
            "152/152 [==============================] - 7s 43ms/step - loss: 0.2289 - accuracy: 0.9051 - val_loss: 0.2144 - val_accuracy: 0.9106\n",
            "Epoch 11/50\n",
            "151/152 [============================>.] - ETA: 0s - loss: 0.2152 - accuracy: 0.9084\n",
            "Epoch 11: val_loss improved from 0.21438 to 0.20492, saving model to /content/drive/MyDrive/TIHM_Dataset/11-0.918990.h5\n",
            "152/152 [==============================] - 6s 41ms/step - loss: 0.2155 - accuracy: 0.9084 - val_loss: 0.2049 - val_accuracy: 0.9190\n",
            "Epoch 12/50\n",
            "151/152 [============================>.] - ETA: 0s - loss: 0.2067 - accuracy: 0.9162\n",
            "Epoch 12: val_loss did not improve from 0.20492\n",
            "152/152 [==============================] - 8s 49ms/step - loss: 0.2063 - accuracy: 0.9163 - val_loss: 0.2115 - val_accuracy: 0.9058\n",
            "Epoch 13/50\n",
            "151/152 [============================>.] - ETA: 0s - loss: 0.2108 - accuracy: 0.9134\n",
            "Epoch 13: val_loss did not improve from 0.20492\n",
            "152/152 [==============================] - 6s 41ms/step - loss: 0.2112 - accuracy: 0.9132 - val_loss: 0.2142 - val_accuracy: 0.9101\n",
            "Epoch 14/50\n",
            "151/152 [============================>.] - ETA: 0s - loss: 0.2033 - accuracy: 0.9130\n",
            "Epoch 14: val_loss did not improve from 0.20492\n",
            "152/152 [==============================] - 7s 47ms/step - loss: 0.2033 - accuracy: 0.9129 - val_loss: 0.2135 - val_accuracy: 0.9103\n",
            "Epoch 15/50\n",
            "152/152 [==============================] - ETA: 0s - loss: 0.1918 - accuracy: 0.9210\n",
            "Epoch 15: val_loss improved from 0.20492 to 0.17527, saving model to /content/drive/MyDrive/TIHM_Dataset/15-0.929087.h5\n",
            "152/152 [==============================] - 6s 41ms/step - loss: 0.1918 - accuracy: 0.9210 - val_loss: 0.1753 - val_accuracy: 0.9291\n",
            "Epoch 16/50\n",
            "152/152 [==============================] - ETA: 0s - loss: 0.1829 - accuracy: 0.9279\n",
            "Epoch 16: val_loss did not improve from 0.17527\n",
            "152/152 [==============================] - 8s 51ms/step - loss: 0.1829 - accuracy: 0.9279 - val_loss: 0.1811 - val_accuracy: 0.9291\n",
            "Epoch 17/50\n",
            "151/152 [============================>.] - ETA: 0s - loss: 0.1817 - accuracy: 0.9252\n",
            "Epoch 17: val_loss did not improve from 0.17527\n",
            "152/152 [==============================] - 6s 39ms/step - loss: 0.1818 - accuracy: 0.9252 - val_loss: 0.1814 - val_accuracy: 0.9245\n",
            "Epoch 18/50\n",
            "152/152 [==============================] - ETA: 0s - loss: 0.2006 - accuracy: 0.9220\n",
            "Epoch 18: val_loss improved from 0.17527 to 0.16714, saving model to /content/drive/MyDrive/TIHM_Dataset/18-0.933654.h5\n",
            "152/152 [==============================] - 7s 49ms/step - loss: 0.2006 - accuracy: 0.9220 - val_loss: 0.1671 - val_accuracy: 0.9337\n",
            "Epoch 19/50\n",
            "151/152 [============================>.] - ETA: 0s - loss: 0.1766 - accuracy: 0.9298\n",
            "Epoch 19: val_loss improved from 0.16714 to 0.16095, saving model to /content/drive/MyDrive/TIHM_Dataset/19-0.933654.h5\n",
            "152/152 [==============================] - 6s 42ms/step - loss: 0.1765 - accuracy: 0.9298 - val_loss: 0.1610 - val_accuracy: 0.9337\n",
            "Epoch 20/50\n",
            "151/152 [============================>.] - ETA: 0s - loss: 0.1778 - accuracy: 0.9296\n",
            "Epoch 20: val_loss did not improve from 0.16095\n",
            "152/152 [==============================] - 8s 52ms/step - loss: 0.1781 - accuracy: 0.9295 - val_loss: 0.1712 - val_accuracy: 0.9288\n",
            "Epoch 21/50\n",
            "152/152 [==============================] - ETA: 0s - loss: 0.1654 - accuracy: 0.9332\n",
            "Epoch 21: val_loss improved from 0.16095 to 0.15083, saving model to /content/drive/MyDrive/TIHM_Dataset/21-0.939663.h5\n",
            "152/152 [==============================] - 6s 41ms/step - loss: 0.1654 - accuracy: 0.9332 - val_loss: 0.1508 - val_accuracy: 0.9397\n",
            "Epoch 22/50\n",
            "152/152 [==============================] - ETA: 0s - loss: 0.1550 - accuracy: 0.9393\n",
            "Epoch 22: val_loss improved from 0.15083 to 0.13867, saving model to /content/drive/MyDrive/TIHM_Dataset/22-0.943750.h5\n",
            "152/152 [==============================] - 8s 52ms/step - loss: 0.1550 - accuracy: 0.9393 - val_loss: 0.1387 - val_accuracy: 0.9438\n",
            "Epoch 23/50\n",
            "152/152 [==============================] - ETA: 0s - loss: 0.1466 - accuracy: 0.9447\n",
            "Epoch 23: val_loss improved from 0.13867 to 0.12958, saving model to /content/drive/MyDrive/TIHM_Dataset/23-0.954808.h5\n",
            "152/152 [==============================] - 6s 39ms/step - loss: 0.1466 - accuracy: 0.9447 - val_loss: 0.1296 - val_accuracy: 0.9548\n",
            "Epoch 24/50\n",
            "152/152 [==============================] - ETA: 0s - loss: 0.1444 - accuracy: 0.9458\n",
            "Epoch 24: val_loss did not improve from 0.12958\n",
            "152/152 [==============================] - 7s 43ms/step - loss: 0.1444 - accuracy: 0.9458 - val_loss: 0.1381 - val_accuracy: 0.9486\n",
            "Epoch 25/50\n",
            "151/152 [============================>.] - ETA: 0s - loss: 0.1437 - accuracy: 0.9445\n",
            "Epoch 25: val_loss did not improve from 0.12958\n",
            "152/152 [==============================] - 7s 46ms/step - loss: 0.1437 - accuracy: 0.9445 - val_loss: 0.1312 - val_accuracy: 0.9498\n",
            "Epoch 26/50\n",
            "151/152 [============================>.] - ETA: 0s - loss: 0.1357 - accuracy: 0.9482\n",
            "Epoch 26: val_loss improved from 0.12958 to 0.11961, saving model to /content/drive/MyDrive/TIHM_Dataset/26-0.957933.h5\n",
            "152/152 [==============================] - 6s 41ms/step - loss: 0.1365 - accuracy: 0.9479 - val_loss: 0.1196 - val_accuracy: 0.9579\n",
            "Epoch 27/50\n",
            "151/152 [============================>.] - ETA: 0s - loss: 0.1235 - accuracy: 0.9529\n",
            "Epoch 27: val_loss did not improve from 0.11961\n",
            "152/152 [==============================] - 6s 42ms/step - loss: 0.1234 - accuracy: 0.9529 - val_loss: 0.1432 - val_accuracy: 0.9498\n",
            "Epoch 28/50\n",
            "151/152 [============================>.] - ETA: 0s - loss: 0.1390 - accuracy: 0.9482\n",
            "Epoch 28: val_loss did not improve from 0.11961\n",
            "152/152 [==============================] - 6s 42ms/step - loss: 0.1388 - accuracy: 0.9483 - val_loss: 0.1295 - val_accuracy: 0.9546\n",
            "Epoch 29/50\n",
            "152/152 [==============================] - ETA: 0s - loss: 0.1493 - accuracy: 0.9448\n",
            "Epoch 29: val_loss did not improve from 0.11961\n",
            "152/152 [==============================] - 7s 48ms/step - loss: 0.1493 - accuracy: 0.9448 - val_loss: 0.1529 - val_accuracy: 0.9428\n",
            "Epoch 30/50\n",
            "151/152 [============================>.] - ETA: 0s - loss: 0.1335 - accuracy: 0.9506\n",
            "Epoch 30: val_loss improved from 0.11961 to 0.11600, saving model to /content/drive/MyDrive/TIHM_Dataset/30-0.959375.h5\n",
            "152/152 [==============================] - 7s 49ms/step - loss: 0.1331 - accuracy: 0.9508 - val_loss: 0.1160 - val_accuracy: 0.9594\n",
            "Epoch 31/50\n",
            "151/152 [============================>.] - ETA: 0s - loss: 0.1183 - accuracy: 0.9574\n",
            "Epoch 31: val_loss improved from 0.11600 to 0.11032, saving model to /content/drive/MyDrive/TIHM_Dataset/31-0.956971.h5\n",
            "152/152 [==============================] - 6s 42ms/step - loss: 0.1182 - accuracy: 0.9574 - val_loss: 0.1103 - val_accuracy: 0.9570\n",
            "Epoch 32/50\n",
            "151/152 [============================>.] - ETA: 0s - loss: 0.1194 - accuracy: 0.9551\n",
            "Epoch 32: val_loss improved from 0.11032 to 0.10752, saving model to /content/drive/MyDrive/TIHM_Dataset/32-0.960817.h5\n",
            "152/152 [==============================] - 7s 48ms/step - loss: 0.1193 - accuracy: 0.9552 - val_loss: 0.1075 - val_accuracy: 0.9608\n",
            "Epoch 33/50\n",
            "152/152 [==============================] - ETA: 0s - loss: 0.1027 - accuracy: 0.9630\n",
            "Epoch 33: val_loss improved from 0.10752 to 0.09255, saving model to /content/drive/MyDrive/TIHM_Dataset/33-0.969712.h5\n",
            "152/152 [==============================] - 7s 43ms/step - loss: 0.1027 - accuracy: 0.9630 - val_loss: 0.0925 - val_accuracy: 0.9697\n",
            "Epoch 34/50\n",
            "151/152 [============================>.] - ETA: 0s - loss: 0.1089 - accuracy: 0.9611\n",
            "Epoch 34: val_loss did not improve from 0.09255\n",
            "152/152 [==============================] - 8s 52ms/step - loss: 0.1090 - accuracy: 0.9610 - val_loss: 0.0950 - val_accuracy: 0.9649\n",
            "Epoch 35/50\n",
            "152/152 [==============================] - ETA: 0s - loss: 0.1104 - accuracy: 0.9621\n",
            "Epoch 35: val_loss improved from 0.09255 to 0.08025, saving model to /content/drive/MyDrive/TIHM_Dataset/35-0.971154.h5\n",
            "152/152 [==============================] - 7s 44ms/step - loss: 0.1104 - accuracy: 0.9621 - val_loss: 0.0802 - val_accuracy: 0.9712\n",
            "Epoch 36/50\n",
            "151/152 [============================>.] - ETA: 0s - loss: 0.1046 - accuracy: 0.9615\n",
            "Epoch 36: val_loss did not improve from 0.08025\n",
            "152/152 [==============================] - 7s 46ms/step - loss: 0.1048 - accuracy: 0.9615 - val_loss: 0.0863 - val_accuracy: 0.9666\n",
            "Epoch 37/50\n",
            "151/152 [============================>.] - ETA: 0s - loss: 0.0850 - accuracy: 0.9692\n",
            "Epoch 37: val_loss did not improve from 0.08025\n",
            "152/152 [==============================] - 6s 42ms/step - loss: 0.0848 - accuracy: 0.9693 - val_loss: 0.0863 - val_accuracy: 0.9702\n",
            "Epoch 38/50\n",
            "151/152 [============================>.] - ETA: 0s - loss: 0.0823 - accuracy: 0.9699\n",
            "Epoch 38: val_loss did not improve from 0.08025\n",
            "152/152 [==============================] - 6s 39ms/step - loss: 0.0827 - accuracy: 0.9697 - val_loss: 0.0852 - val_accuracy: 0.9666\n",
            "Epoch 39/50\n",
            "151/152 [============================>.] - ETA: 0s - loss: 0.0877 - accuracy: 0.9694\n",
            "Epoch 39: val_loss improved from 0.08025 to 0.07840, saving model to /content/drive/MyDrive/TIHM_Dataset/39-0.971635.h5\n",
            "152/152 [==============================] - 8s 50ms/step - loss: 0.0880 - accuracy: 0.9692 - val_loss: 0.0784 - val_accuracy: 0.9716\n",
            "Epoch 40/50\n",
            "151/152 [============================>.] - ETA: 0s - loss: 0.0872 - accuracy: 0.9703\n",
            "Epoch 40: val_loss improved from 0.07840 to 0.06187, saving model to /content/drive/MyDrive/TIHM_Dataset/40-0.980769.h5\n",
            "152/152 [==============================] - 6s 41ms/step - loss: 0.0871 - accuracy: 0.9702 - val_loss: 0.0619 - val_accuracy: 0.9808\n",
            "Epoch 41/50\n",
            "151/152 [============================>.] - ETA: 0s - loss: 0.1127 - accuracy: 0.9586\n",
            "Epoch 41: val_loss did not improve from 0.06187\n",
            "152/152 [==============================] - 6s 39ms/step - loss: 0.1137 - accuracy: 0.9584 - val_loss: 0.1400 - val_accuracy: 0.9440\n",
            "Epoch 42/50\n",
            "151/152 [============================>.] - ETA: 0s - loss: 0.1210 - accuracy: 0.9543\n",
            "Epoch 42: val_loss did not improve from 0.06187\n",
            "152/152 [==============================] - 8s 50ms/step - loss: 0.1207 - accuracy: 0.9544 - val_loss: 0.1336 - val_accuracy: 0.9514\n",
            "Epoch 43/50\n",
            "151/152 [============================>.] - ETA: 0s - loss: 0.1115 - accuracy: 0.9593\n",
            "Epoch 43: val_loss did not improve from 0.06187\n",
            "152/152 [==============================] - 6s 41ms/step - loss: 0.1115 - accuracy: 0.9594 - val_loss: 0.0880 - val_accuracy: 0.9719\n",
            "Epoch 44/50\n",
            "152/152 [==============================] - ETA: 0s - loss: 0.0923 - accuracy: 0.9649\n",
            "Epoch 44: val_loss did not improve from 0.06187\n",
            "152/152 [==============================] - 8s 52ms/step - loss: 0.0923 - accuracy: 0.9649 - val_loss: 0.0975 - val_accuracy: 0.9683\n",
            "Epoch 45/50\n",
            "152/152 [==============================] - ETA: 0s - loss: 0.0884 - accuracy: 0.9709\n",
            "Epoch 45: val_loss did not improve from 0.06187\n",
            "152/152 [==============================] - 6s 39ms/step - loss: 0.0884 - accuracy: 0.9709 - val_loss: 0.0728 - val_accuracy: 0.9752\n",
            "Epoch 46/50\n",
            "152/152 [==============================] - ETA: 0s - loss: 0.0878 - accuracy: 0.9700\n",
            "Epoch 46: val_loss did not improve from 0.06187\n",
            "152/152 [==============================] - 8s 51ms/step - loss: 0.0878 - accuracy: 0.9700 - val_loss: 0.0950 - val_accuracy: 0.9651\n",
            "Epoch 47/50\n",
            "151/152 [============================>.] - ETA: 0s - loss: 0.0712 - accuracy: 0.9735\n",
            "Epoch 47: val_loss did not improve from 0.06187\n",
            "152/152 [==============================] - 6s 41ms/step - loss: 0.0709 - accuracy: 0.9736 - val_loss: 0.0628 - val_accuracy: 0.9772\n",
            "Epoch 48/50\n",
            "151/152 [============================>.] - ETA: 0s - loss: 0.0748 - accuracy: 0.9753\n",
            "Epoch 48: val_loss did not improve from 0.06187\n",
            "152/152 [==============================] - 7s 44ms/step - loss: 0.0745 - accuracy: 0.9754 - val_loss: 0.0733 - val_accuracy: 0.9728\n",
            "Epoch 49/50\n",
            "152/152 [==============================] - ETA: 0s - loss: 0.0672 - accuracy: 0.9762\n",
            "Epoch 49: val_loss did not improve from 0.06187\n",
            "152/152 [==============================] - 8s 49ms/step - loss: 0.0672 - accuracy: 0.9762 - val_loss: 0.0699 - val_accuracy: 0.9764\n",
            "Epoch 50/50\n",
            "151/152 [============================>.] - ETA: 0s - loss: 0.0671 - accuracy: 0.9769\n",
            "Epoch 50: val_loss improved from 0.06187 to 0.06032, saving model to /content/drive/MyDrive/TIHM_Dataset/50-0.979327.h5\n",
            "152/152 [==============================] - 6s 40ms/step - loss: 0.0670 - accuracy: 0.9770 - val_loss: 0.0603 - val_accuracy: 0.9793\n"
          ]
        }
      ]
    },
    {
      "cell_type": "markdown",
      "source": [
        "#7. Plotting Evaluation"
      ],
      "metadata": {
        "id": "Ekca5QDzK97E"
      }
    },
    {
      "cell_type": "code",
      "source": [
        "import matplotlib.pyplot as plt"
      ],
      "metadata": {
        "id": "ElB-tnJKK9jk"
      },
      "execution_count": 41,
      "outputs": []
    },
    {
      "cell_type": "code",
      "source": [
        "# access the loss values and accuracy values\n",
        "loss_values = history.history['loss']\n",
        "val_loss_values = history.history['val_loss']\n",
        "accuracy_values = history.history['accuracy']\n",
        "val_accuracy_values = history.history['val_accuracy']\n",
        "\n",
        "fig, axs = plt.subplots(1, 2, figsize=(10, 5))\n",
        "# plot loss & accuracy\n",
        "axs[0].plot(loss_values, label='Training Loss')\n",
        "axs[0].plot(val_loss_values, label='Validation Loss')\n",
        "axs[0].set_xlabel('Epochs')\n",
        "axs[0].set_ylabel('Loss')\n",
        "axs[0].set_title('Training and Validation Loss')\n",
        "axs[0].legend()\n",
        "\n",
        "axs[1].plot(accuracy_values, label='Training Accuracy')\n",
        "axs[1].plot(val_accuracy_values, label='Validation Accuracy')\n",
        "axs[1].set_xlabel('Epochs')\n",
        "axs[1].set_ylabel('Accuracy')\n",
        "axs[1].set_title('Training and Validation Accuracy')\n",
        "axs[1].legend()\n",
        "\n",
        "# Adjust the layout and display the plot\n",
        "plt.tight_layout()\n",
        "plt.show()"
      ],
      "metadata": {
        "colab": {
          "base_uri": "https://localhost:8080/",
          "height": 507
        },
        "id": "wm4qjvbAMA27",
        "outputId": "3a9dfd26-9136-4628-bb53-548b7589ac56"
      },
      "execution_count": 43,
      "outputs": [
        {
          "output_type": "display_data",
          "data": {
            "text/plain": [
              "<Figure size 1000x500 with 2 Axes>"
            ],
            "image/png": "[encoded data removed]"
          },
          "metadata": {}
        }
      ]
    }
  ]
}